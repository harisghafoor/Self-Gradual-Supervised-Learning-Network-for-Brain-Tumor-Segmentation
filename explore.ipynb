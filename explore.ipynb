{
 "cells": [
  {
   "cell_type": "code",
   "execution_count": 27,
   "metadata": {},
   "outputs": [
    {
     "name": "stdout",
     "output_type": "stream",
     "text": [
      "The autoreload extension is already loaded. To reload it, use:\n",
      "  %reload_ext autoreload\n"
     ]
    }
   ],
   "source": [
    "import os\n",
    "import numpy as np\n",
    "import cv2\n",
    "import torch\n",
    "from torch.utils.data import Dataset\n",
    "from dataset import ThyroidNodules\n",
    "from torch.utils.data import DataLoader\n",
    "from glob import glob\n",
    "from trainer import Trainer \n",
    "%load_ext autoreload\n",
    "%autoreload 2"
   ]
  },
  {
   "cell_type": "code",
   "execution_count": 28,
   "metadata": {},
   "outputs": [],
   "source": [
    "dataset = ThyroidNodules(\n",
    "    image_size=(28, 28),\n",
    "    images_path=\"/Users/eloise-em/Documents/Haris Ghafoor Archive/Research and Development/RnD/Thyroid Dataset/tn3k/trainval-image\",\n",
    "    masks_path=\"/Users/eloise-em/Documents/Haris Ghafoor Archive/Research and Development/RnD/Thyroid Dataset/tn3k/trainval-mask\",\n",
    ")\n",
    "# print(dataset.data)"
   ]
  },
  {
   "cell_type": "code",
   "execution_count": 29,
   "metadata": {},
   "outputs": [],
   "source": [
    "# Batch size and image dimensions\n",
    "BATCH_SIZE = 16\n",
    "HEIGHT = 128\n",
    "WIDTH = 128\n",
    "\n",
    "# Hyperparameters\n",
    "H = HEIGHT\n",
    "W = WIDTH\n",
    "DEFAULT_LR = 0.001\n",
    "\n",
    "train_x= sorted(glob(os.path.join(\"/Users/eloise-em/Documents/Haris Ghafoor Archive/Research and Development/RnD/Thyroid Dataset/tn3k/trainval-image\",'*')))\n",
    "train_y= sorted(glob(os.path.join(\"/Users/eloise-em/Documents/Haris Ghafoor Archive/Research and Development/RnD/Thyroid Dataset/tn3k/trainval-mask\",'*')))\n",
    "\n",
    "valid_x= sorted(glob(os.path.join(\"/Users/eloise-em/Documents/Haris Ghafoor Archive/Research and Development/RnD/Thyroid Dataset/tn3k/test-image\",'*')))\n",
    "valid_y= sorted(glob(os.path.join(\"/Users/eloise-em/Documents/Haris Ghafoor Archive/Research and Development/RnD/Thyroid Dataset/tn3k/test-mask\",'*')))\n",
    "\n",
    "# valid_x = \"/Users/eloise-em/Documents/Haris Ghafoor Archive/Research and Development/RnD/Thyroid Dataset/tn3k/test-image\"\n",
    "# valid_y = \"/Users/eloise-em/Documents/Haris Ghafoor Archive/Research and Development/RnD/Thyroid Dataset/tn3k/test-mask\"\n",
    "# Create datasets and dataloaders for this fold\n",
    "train_dataset = ThyroidNodules(\n",
    "    train_x,\n",
    "    train_y,\n",
    "    image_size=(H, W),\n",
    ")\n",
    "\n",
    "valid_dataset = ThyroidNodules(\n",
    "    valid_x,\n",
    "    valid_y,\n",
    "    image_size=(H, W),\n",
    ")\n",
    "\n",
    "train_loader = DataLoader(\n",
    "    dataset=train_dataset, batch_size=BATCH_SIZE, shuffle=True, num_workers=2\n",
    ")\n",
    "valid_loader = DataLoader(\n",
    "    dataset=valid_dataset, batch_size=BATCH_SIZE, shuffle=False, num_workers=2\n",
    ")\n",
    "# device = torch.device(args.device)\n",
    "# print(\"Device:\", device)\n",
    "\n",
    "# model = AttentionUNetppGradual()\n",
    "# model = model.to(device)\n",
    "\n",
    "# optimizer = torch.optim.Adam(model.parameters(), lr=lr)\n",
    "# scheduler = torch.optim.lr_scheduler.ReduceLROnPlateau(\n",
    "#     optimizer, \"min\", patience=10, verbose=True\n",
    "# )"
   ]
  },
  {
   "cell_type": "markdown",
   "metadata": {},
   "source": []
  }
 ],
 "metadata": {
  "kernelspec": {
   "display_name": "ssl",
   "language": "python",
   "name": "python3"
  },
  "language_info": {
   "codemirror_mode": {
    "name": "ipython",
    "version": 3
   },
   "file_extension": ".py",
   "mimetype": "text/x-python",
   "name": "python",
   "nbconvert_exporter": "python",
   "pygments_lexer": "ipython3",
   "version": "3.10.13"
  }
 },
 "nbformat": 4,
 "nbformat_minor": 2
}
