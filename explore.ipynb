{
 "cells": [
  {
   "cell_type": "code",
   "execution_count": 51,
   "metadata": {},
   "outputs": [
    {
     "name": "stdout",
     "output_type": "stream",
     "text": [
      "The autoreload extension is already loaded. To reload it, use:\n",
      "  %reload_ext autoreload\n"
     ]
    }
   ],
   "source": [
    "import os\n",
    "import warnings\n",
    "import argparse\n",
    "import torch\n",
    "import torch.nn as nn\n",
    "import numpy as np\n",
    "import pandas as pd\n",
    "\n",
    "import torch.nn.functional as F\n",
    "from torch.utils.data import DataLoader\n",
    "from glob import glob\n",
    "\n",
    "from scripts.utils import (_get_device,\n",
    "                        prepare_dataset,\n",
    "                        _get_dataloaders,\n",
    "                        get_normalized_mean,\n",
    "                        get_labelled_indices,\n",
    "                        sabotage_samples)\n",
    "from scripts.trainer import Trainer\n",
    "from scripts.test import evaluate_test_data\n",
    "from scripts.model import Unet\n",
    "from config import Config\n",
    "\n",
    "warnings.filterwarnings(\"ignore\")\n",
    "\n",
    "%load_ext autoreload\n",
    "%autoreload 2"
   ]
  },
  {
   "cell_type": "code",
   "execution_count": 52,
   "metadata": {},
   "outputs": [
    {
     "name": "stdout",
     "output_type": "stream",
     "text": [
      "Using Apple MPS\n",
      "Number of labelled samples : 287\n"
     ]
    }
   ],
   "source": [
    "config = Config()\n",
    "rng = np.random.RandomState(26)\n",
    "seeds = rng.randint(10000, size=config.n_exps)\n",
    "mode = config.mode\n",
    "RESULTS_DIR = config.RESULTS_DIR\n",
    "THRESHOLD = config.THRESHOLD\n",
    "device = _get_device()\n",
    "os.makedirs(os.path.join(RESULTS_DIR, config.experiment_name), exist_ok=True)\n",
    "# Initialize the seeds\n",
    "seed = seeds[0]\n",
    "# Initialized the object for end to end pipeline\n",
    "model = Unet(img_ch=3, output_ch=1).to(device)\n",
    "ssl = Trainer(seed=seed, device=device, model=model, config_file=config)\n",
    "# Prepare dataset\n",
    "mean_per_channel, std_per_channel = get_normalized_mean(\n",
    "    sorted(glob(os.path.join((config.train_x), \"*\")))\n",
    ")\n",
    "train_dataset, test_dataset = prepare_dataset(\n",
    "    train_x=sorted(glob(os.path.join((config.train_x), \"*\")))[:],\n",
    "    train_y=sorted(glob(os.path.join((config.train_y), \"*\")))[:],\n",
    "    valid_x=sorted(glob(os.path.join((config.valid_x), \"*\")))[:],\n",
    "    valid_y=sorted(glob(os.path.join((config.valid_y), \"*\")))[:],\n",
    "    H=config.H,\n",
    "    W=config.W,\n",
    "    mean=mean_per_channel,\n",
    "    std=std_per_channel,\n",
    ")\n",
    "indices =  get_labelled_indices(train_dataset.images,RATIO_LABELLED_SAMPLES=config.RATIO_LABELLED_SAMPLES)\n",
    "train_dataset = sabotage_samples(indices,train_dataset)\n",
    "assert np.all(np.array(train_dataset.masks)[indices[1]] == -1)\n",
    "assert np.all(np.array(train_dataset.masks)[indices[1]+1] != -1)\n",
    "\n",
    "train_loader = DataLoader(\n",
    "    dataset=train_dataset,\n",
    "    batch_size=config.BATCH_SIZE,\n",
    "    shuffle=config.SHUFFLE_TRAIN,\n",
    "    num_workers=config.NUM_WORKERS,\n",
    ")\n",
    "test_loader = DataLoader(\n",
    "    dataset=test_dataset,\n",
    "    batch_size=config.BATCH_SIZE,\n",
    "    shuffle=config.SHUFFLE_TEST,\n",
    "    num_workers=config.NUM_WORKERS,\n",
    ")"
   ]
  },
  {
   "cell_type": "code",
   "execution_count": 57,
   "metadata": {},
   "outputs": [
    {
     "data": {
      "text/plain": [
       "torch.Size([32, 3, 256, 256])"
      ]
     },
     "execution_count": 57,
     "metadata": {},
     "output_type": "execute_result"
    }
   ],
   "source": [
    "next(iter(train_loader))[0].shape"
   ]
  },
  {
   "cell_type": "code",
   "execution_count": 58,
   "metadata": {},
   "outputs": [
    {
     "data": {
      "text/plain": [
       "tensor([[[[ 5.7928e-01,  8.8445e-01, -9.2891e-02,  ..., -4.2773e-01,\n",
       "           -2.8051e-01, -7.3394e-01],\n",
       "          [ 1.4177e-01, -2.1274e-01,  5.0733e-01,  ...,  9.3782e-01,\n",
       "            8.6258e-01, -2.3825e-01],\n",
       "          [ 5.3638e-01,  9.8070e-02,  5.4900e-01,  ...,  5.5021e-01,\n",
       "           -1.7941e-01, -1.8903e-01],\n",
       "          ...,\n",
       "          [-3.6138e-01, -3.9124e-01, -8.7628e-01,  ..., -2.0736e-01,\n",
       "           -2.9314e-01, -1.5043e-02],\n",
       "          [-4.1951e-01, -3.2101e-01, -7.5670e-01,  ..., -4.3503e-02,\n",
       "            2.6197e-01, -7.7976e-02],\n",
       "          [-7.9440e-01, -3.4125e-01, -6.0943e-01,  ..., -2.8479e-01,\n",
       "           -2.9074e-01, -2.0294e-01]]],\n",
       "\n",
       "\n",
       "        [[[ 5.1864e-01,  9.1733e-01,  3.3473e-01,  ...,  6.4015e-02,\n",
       "            2.3762e-01, -2.2051e-01],\n",
       "          [-2.3371e-01,  3.1693e-01,  4.8750e-01,  ...,  1.1793e-01,\n",
       "            1.1269e-01, -4.5744e-01],\n",
       "          [ 3.1162e-01,  6.6191e-02,  6.7075e-02,  ...,  1.0598e-01,\n",
       "           -6.7123e-01, -3.2136e-01],\n",
       "          ...,\n",
       "          [-1.7761e-01, -1.1258e-02, -6.9867e-01,  ...,  2.0172e-01,\n",
       "           -1.6886e-01,  1.5186e-02],\n",
       "          [-3.0511e-01, -2.2387e-01, -9.4069e-01,  ..., -6.9370e-02,\n",
       "           -5.2952e-03,  6.4208e-02],\n",
       "          [-9.3697e-01, -5.4887e-01, -6.8080e-01,  ..., -3.8617e-01,\n",
       "           -1.2399e-01, -1.9955e-01]]],\n",
       "\n",
       "\n",
       "        [[[-3.4638e-01,  3.4951e-01, -3.7871e-01,  ..., -4.1695e-01,\n",
       "           -1.3830e-01, -2.3511e-01],\n",
       "          [-7.5055e-03,  5.3874e-01,  1.1648e+00,  ...,  7.2384e-01,\n",
       "            1.8885e-01, -1.2000e-01],\n",
       "          [ 9.1849e-01, -4.5531e-01,  1.6672e-01,  ...,  3.7959e-01,\n",
       "           -5.3117e-01, -3.9435e-02],\n",
       "          ...,\n",
       "          [-2.8938e-01, -3.0466e-01, -5.6868e-01,  ..., -4.1065e-02,\n",
       "           -2.6596e-01, -2.4732e-02],\n",
       "          [-4.2282e-01, -4.4639e-01, -7.5483e-01,  ..., -6.8199e-02,\n",
       "            1.6622e-01, -6.1078e-02],\n",
       "          [-8.2479e-01, -3.6847e-01, -7.2678e-01,  ..., -2.3757e-01,\n",
       "           -1.5698e-01, -2.5934e-01]]],\n",
       "\n",
       "\n",
       "        ...,\n",
       "\n",
       "\n",
       "        [[[ 2.5566e-01,  3.8405e-01,  5.3154e-01,  ..., -3.0122e-01,\n",
       "            3.2389e-01, -1.4963e-01],\n",
       "          [-2.7397e-01, -3.2774e-01, -3.8185e-01,  ..., -4.4318e-02,\n",
       "            2.9663e-01,  2.8224e-02],\n",
       "          [-2.8743e-01, -2.7467e-01, -8.2342e-01,  ...,  7.7893e-01,\n",
       "            1.5369e-01,  1.6863e-01],\n",
       "          ...,\n",
       "          [-2.4188e-01, -1.6475e-01, -6.9509e-01,  ..., -1.7054e-01,\n",
       "           -5.4192e-02, -1.0238e-01],\n",
       "          [-3.4757e-01, -2.9208e-01, -7.1334e-01,  ..., -1.8390e-01,\n",
       "            1.1145e-01, -1.2448e-01],\n",
       "          [-8.8198e-01, -3.0549e-01, -6.5872e-01,  ..., -4.3635e-01,\n",
       "           -3.6999e-01, -3.1375e-01]]],\n",
       "\n",
       "\n",
       "        [[[ 3.4922e-01,  8.2673e-01,  2.8377e-01,  ...,  8.4005e-01,\n",
       "            5.6622e-01, -1.7970e-01],\n",
       "          [-8.7181e-02,  2.6250e-01, -3.6647e-02,  ...,  3.0363e-01,\n",
       "            1.7762e-02, -1.2735e-01],\n",
       "          [ 2.3474e-01, -5.6974e-01, -7.1035e-01,  ...,  4.3600e-01,\n",
       "           -2.6291e-01, -4.2142e-02],\n",
       "          ...,\n",
       "          [-3.1485e-01, -2.2324e-01, -7.4629e-01,  ..., -1.7450e-02,\n",
       "           -3.0965e-01, -3.0161e-02],\n",
       "          [-3.4737e-01, -3.3559e-01, -7.4212e-01,  ..., -1.6415e-01,\n",
       "            5.4532e-02, -7.6612e-02],\n",
       "          [-8.7191e-01, -3.8176e-01, -6.7074e-01,  ..., -4.3615e-01,\n",
       "           -1.3369e-01, -2.7202e-01]]],\n",
       "\n",
       "\n",
       "        [[[ 9.4739e-01,  1.4471e+00,  8.6158e-01,  ..., -5.5629e-01,\n",
       "           -2.4402e-01, -2.1354e-01],\n",
       "          [ 5.2056e-01,  6.3100e-01,  4.9662e-01,  ...,  8.6927e-04,\n",
       "            2.0965e-01, -4.7477e-01],\n",
       "          [ 7.9816e-01,  1.5753e+00,  7.9873e-01,  ...,  1.8379e-01,\n",
       "           -8.5619e-03, -2.1134e-01],\n",
       "          ...,\n",
       "          [-2.3003e-01, -4.0398e-01, -5.2547e-01,  ..., -1.1437e-01,\n",
       "           -1.2767e-01, -1.2815e-02],\n",
       "          [-5.2220e-01, -4.5847e-01, -8.5217e-01,  ..., -2.1954e-01,\n",
       "            1.6398e-01, -1.0212e-01],\n",
       "          [-8.6276e-01, -3.9141e-01, -6.8806e-01,  ..., -4.5003e-01,\n",
       "           -2.0956e-01, -2.4786e-01]]]], device='mps:0',\n",
       "       grad_fn=<ConvolutionBackward0>)"
      ]
     },
     "execution_count": 58,
     "metadata": {},
     "output_type": "execute_result"
    }
   ],
   "source": [
    "model(next(iter(train_loader))[0].to(device))"
   ]
  },
  {
   "cell_type": "code",
   "execution_count": null,
   "metadata": {},
   "outputs": [],
   "source": [
    "# Fit the model for each seeds\n",
    "if mode == \"train\":\n",
    "    model, _ = ssl.fit(train_loader=train_loader, test_dataset=test_dataset)\n",
    "# Test the model\n",
    "# ssl.device = torch.device(\"cpu\")\n",
    "try:\n",
    "    checkpoint = torch.load(\n",
    "        ssl.model_save_path,\n",
    "        map_location=ssl.device,\n",
    "    )\n",
    "except FileNotFoundError:\n",
    "    print(\"Model not found\")\n",
    "    # return pd.DataFrame()\n",
    "model.load_state_dict(checkpoint[\"state_dict\"])\n",
    "model.eval()\n",
    "df = evaluate_test_data(\n",
    "    model=model,\n",
    "    torch_dataset=test_dataset,\n",
    "    torch_device=ssl.device,\n",
    "    RESULT_DIR=os.path.join(RESULTS_DIR, config.experiment_name),\n",
    "    THRESHOLD=THRESHOLD,\n",
    "    save_csv_file=True,\n",
    "    save_plots=False,\n",
    "    show_progress=True,\n",
    ")"
   ]
  },
  {
   "cell_type": "markdown",
   "metadata": {},
   "source": []
  }
 ],
 "metadata": {
  "kernelspec": {
   "display_name": "ssl",
   "language": "python",
   "name": "python3"
  },
  "language_info": {
   "codemirror_mode": {
    "name": "ipython",
    "version": 3
   },
   "file_extension": ".py",
   "mimetype": "text/x-python",
   "name": "python",
   "nbconvert_exporter": "python",
   "pygments_lexer": "ipython3",
   "version": "3.10.13"
  }
 },
 "nbformat": 4,
 "nbformat_minor": 2
}
