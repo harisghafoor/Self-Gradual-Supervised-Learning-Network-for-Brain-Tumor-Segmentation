{
 "cells": [
  {
   "cell_type": "code",
   "execution_count": 17,
   "metadata": {},
   "outputs": [
    {
     "name": "stdout",
     "output_type": "stream",
     "text": [
      "The autoreload extension is already loaded. To reload it, use:\n",
      "  %reload_ext autoreload\n"
     ]
    }
   ],
   "source": [
    "import os\n",
    "import numpy as np\n",
    "import cv2\n",
    "import torch\n",
    "from torch.utils.data import Dataset\n",
    "from dataset import ThyroidNodules\n",
    "from torch.utils.data import DataLoader\n",
    "from glob import glob\n",
    "from trainer import Trainer\n",
    "from sklearn.metrics import (\n",
    "    accuracy_score,\n",
    "    f1_score,\n",
    "    jaccard_score,\n",
    "    precision_score,\n",
    "    recall_score,\n",
    ")\n",
    "from eval import compute_loss,DiceLoss\n",
    "from timeit import default_timer as timer\n",
    "import torch\n",
    "import torch.nn as nn\n",
    "from torch.autograd import Variable\n",
    "from torch.nn.utils import weight_norm\n",
    "import torch.nn.functional as F\n",
    "from torch.utils.tensorboard import SummaryWriter\n",
    "from torch.utils.data import DataLoader\n",
    "%load_ext autoreload\n",
    "%autoreload 2"
   ]
  },
  {
   "cell_type": "code",
   "execution_count": 13,
   "metadata": {},
   "outputs": [],
   "source": [
    "# Batch size and image dimensions\n",
    "BATCH_SIZE = 16\n",
    "HEIGHT = 128\n",
    "WIDTH = 128\n",
    "\n",
    "# Hyperparameters\n",
    "H = HEIGHT\n",
    "W = WIDTH\n",
    "DEFAULT_LR = 0.001\n",
    "\n",
    "train_x= sorted(glob(os.path.join(\"/Users/eloise-em/Documents/Haris Ghafoor Archive/Research and Development/RnD/Thyroid Dataset/tn3k/trainval-image\",'*')))\n",
    "train_y= sorted(glob(os.path.join(\"/Users/eloise-em/Documents/Haris Ghafoor Archive/Research and Development/RnD/Thyroid Dataset/tn3k/trainval-mask\",'*')))\n",
    "\n",
    "valid_x= sorted(glob(os.path.join(\"/Users/eloise-em/Documents/Haris Ghafoor Archive/Research and Development/RnD/Thyroid Dataset/tn3k/test-image\",'*')))\n",
    "valid_y= sorted(glob(os.path.join(\"/Users/eloise-em/Documents/Haris Ghafoor Archive/Research and Development/RnD/Thyroid Dataset/tn3k/test-mask\",'*')))\n",
    "\n",
    "# valid_x = \"/Users/eloise-em/Documents/Haris Ghafoor Archive/Research and Development/RnD/Thyroid Dataset/tn3k/test-image\"\n",
    "# valid_y = \"/Users/eloise-em/Documents/Haris Ghafoor Archive/Research and Development/RnD/Thyroid Dataset/tn3k/test-mask\"\n",
    "# Create datasets and dataloaders for this fold\n",
    "train_dataset = ThyroidNodules(\n",
    "    train_x,\n",
    "    train_y,\n",
    "    image_size=(H, W),\n",
    ")\n",
    "\n",
    "valid_dataset = ThyroidNodules(\n",
    "    valid_x,\n",
    "    valid_y,\n",
    "    image_size=(H, W),\n",
    ")\n",
    "\n",
    "train_loader = DataLoader(\n",
    "    dataset=train_dataset, batch_size=BATCH_SIZE, shuffle=True, num_workers=2\n",
    ")\n",
    "valid_loader = DataLoader(\n",
    "    dataset=valid_dataset, batch_size=BATCH_SIZE, shuffle=False, num_workers=2\n",
    ")\n",
    "# device = torch.device(args.device)\n",
    "# print(\"Device:\", device)\n",
    "\n",
    "# model = AttentionUNetppGradual()\n",
    "# model = model.to(device)\n",
    "\n",
    "# optimizer = torch.optim.Adam(model.parameters(), lr=lr)\n",
    "# scheduler = torch.optim.lr_scheduler.ReduceLROnPlateau(\n",
    "#     optimizer, \"min\", patience=10, verbose=True\n",
    "# )"
   ]
  },
  {
   "cell_type": "markdown",
   "metadata": {},
   "source": []
  },
  {
   "cell_type": "code",
   "execution_count": 14,
   "metadata": {},
   "outputs": [],
   "source": [
    "trainer = Trainer(42)"
   ]
  },
  {
   "cell_type": "code",
   "execution_count": 15,
   "metadata": {},
   "outputs": [],
   "source": [
    "def calculate_metrics(y_true, y_pred, threshold):\n",
    "    # Ground truth\n",
    "    y_true = y_true.cpu().numpy()\n",
    "    y_true = y_true > threshold\n",
    "    y_true = y_true.astype(np.uint8)\n",
    "    y_true = y_true.reshape(-1)\n",
    "\n",
    "    # Prediction\n",
    "    y_pred = torch.sigmoid(y_pred)\n",
    "    y_pred = y_pred.cpu().numpy()\n",
    "    y_pred = y_pred > threshold\n",
    "    y_pred = y_pred.astype(np.uint8)\n",
    "    y_pred = y_pred.reshape(-1)\n",
    "\n",
    "    score_jaccard = jaccard_score(y_true, y_pred)\n",
    "    score_f1 = f1_score(y_true, y_pred)\n",
    "    score_recall = recall_score(y_true, y_pred)\n",
    "    score_precision = precision_score(y_true, y_pred)\n",
    "    score_acc = accuracy_score(y_true, y_pred)\n",
    "\n",
    "    return [score_jaccard, score_f1, score_recall, score_precision, score_acc]"
   ]
  },
  {
   "cell_type": "code",
   "execution_count": 16,
   "metadata": {},
   "outputs": [
    {
     "name": "stdout",
     "output_type": "stream",
     "text": [
      "output torch.Size([32, 1, 128, 128])\n",
      "target torch.Size([32, 1, 128, 128])\n",
      "loss tensor(1.6175, device='mps:0', grad_fn=<AddBackward0>)\n"
     ]
    }
   ],
   "source": [
    "trainer = Trainer(seed=7)\n",
    "input = next(iter(trainer.train_loader))[0].to(trainer.device)\n",
    "output = trainer.model(input)\n",
    "target = next(iter(trainer.train_loader))[1].to(trainer.device)\n",
    "loss = compute_loss(output, target)\n",
    "print(\"output\", output.shape)\n",
    "print(\"target\", target.shape)\n",
    "print(\"loss\", loss)"
   ]
  },
  {
   "cell_type": "code",
   "execution_count": 18,
   "metadata": {},
   "outputs": [],
   "source": [
    "trainer = Trainer(seed=7)\n"
   ]
  },
  {
   "cell_type": "code",
   "execution_count": null,
   "metadata": {},
   "outputs": [],
   "source": [
    "trainer.fit()"
   ]
  }
 ],
 "metadata": {
  "kernelspec": {
   "display_name": "ssl",
   "language": "python",
   "name": "python3"
  },
  "language_info": {
   "codemirror_mode": {
    "name": "ipython",
    "version": 3
   },
   "file_extension": ".py",
   "mimetype": "text/x-python",
   "name": "python",
   "nbconvert_exporter": "python",
   "pygments_lexer": "ipython3",
   "version": "3.10.13"
  }
 },
 "nbformat": 4,
 "nbformat_minor": 2
}
